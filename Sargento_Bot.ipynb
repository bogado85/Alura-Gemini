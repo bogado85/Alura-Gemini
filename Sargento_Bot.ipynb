{
  "nbformat": 4,
  "nbformat_minor": 0,
  "metadata": {
    "colab": {
      "provenance": [],
      "authorship_tag": "ABX9TyNWeuHYpoJIbDydUW+rqWty",
      "include_colab_link": true
    },
    "kernelspec": {
      "name": "python3",
      "display_name": "Python 3"
    },
    "language_info": {
      "name": "python"
    },
    "widgets": {
      "application/vnd.jupyter.widget-state+json": {
        "b0f66e5c555346d384d2c30b6e73a953": {
          "model_module": "@jupyter-widgets/controls",
          "model_name": "VBoxModel",
          "model_module_version": "1.5.0",
          "state": {
            "_dom_classes": [],
            "_model_module": "@jupyter-widgets/controls",
            "_model_module_version": "1.5.0",
            "_model_name": "VBoxModel",
            "_view_count": null,
            "_view_module": "@jupyter-widgets/controls",
            "_view_module_version": "1.5.0",
            "_view_name": "VBoxView",
            "box_style": "",
            "children": [
              "IPY_MODEL_404a672e61a046f3b069d3d20c6e077b",
              "IPY_MODEL_368c5cad514b4161aa51f11a5e9d1d38",
              "IPY_MODEL_7bcc12688bd745a1b997e30653df8d4e"
            ],
            "layout": "IPY_MODEL_d17fa7da0b344b3b9d43e99a821af85e"
          }
        },
        "404a672e61a046f3b069d3d20c6e077b": {
          "model_module": "@jupyter-widgets/controls",
          "model_name": "TextareaModel",
          "model_module_version": "1.5.0",
          "state": {
            "_dom_classes": [],
            "_model_module": "@jupyter-widgets/controls",
            "_model_module_version": "1.5.0",
            "_model_name": "TextareaModel",
            "_view_count": null,
            "_view_module": "@jupyter-widgets/controls",
            "_view_module_version": "1.5.0",
            "_view_name": "TextareaView",
            "continuous_update": true,
            "description": "Sua dúvida:",
            "description_tooltip": null,
            "disabled": false,
            "layout": "IPY_MODEL_1de830ace5ee4df897e46f5bdd94f8a2",
            "placeholder": "​",
            "rows": null,
            "style": "IPY_MODEL_35ed6ff71c014e2eb9e93f7536d18a10",
            "value": ""
          }
        },
        "368c5cad514b4161aa51f11a5e9d1d38": {
          "model_module": "@jupyter-widgets/controls",
          "model_name": "ButtonModel",
          "model_module_version": "1.5.0",
          "state": {
            "_dom_classes": [],
            "_model_module": "@jupyter-widgets/controls",
            "_model_module_version": "1.5.0",
            "_model_name": "ButtonModel",
            "_view_count": null,
            "_view_module": "@jupyter-widgets/controls",
            "_view_module_version": "1.5.0",
            "_view_name": "ButtonView",
            "button_style": "",
            "description": "Enviar",
            "disabled": false,
            "icon": "",
            "layout": "IPY_MODEL_63b8b5e9aa77489ea47dfc8440a52e28",
            "style": "IPY_MODEL_eddf4e9ea58740969c02678800d6c79c",
            "tooltip": ""
          }
        },
        "7bcc12688bd745a1b997e30653df8d4e": {
          "model_module": "@jupyter-widgets/output",
          "model_name": "OutputModel",
          "model_module_version": "1.0.0",
          "state": {
            "_dom_classes": [],
            "_model_module": "@jupyter-widgets/output",
            "_model_module_version": "1.0.0",
            "_model_name": "OutputModel",
            "_view_count": null,
            "_view_module": "@jupyter-widgets/output",
            "_view_module_version": "1.0.0",
            "_view_name": "OutputView",
            "layout": "IPY_MODEL_1b0dea7504174d51b745170df68bc7cf",
            "msg_id": "",
            "outputs": []
          }
        },
        "d17fa7da0b344b3b9d43e99a821af85e": {
          "model_module": "@jupyter-widgets/base",
          "model_name": "LayoutModel",
          "model_module_version": "1.2.0",
          "state": {
            "_model_module": "@jupyter-widgets/base",
            "_model_module_version": "1.2.0",
            "_model_name": "LayoutModel",
            "_view_count": null,
            "_view_module": "@jupyter-widgets/base",
            "_view_module_version": "1.2.0",
            "_view_name": "LayoutView",
            "align_content": null,
            "align_items": null,
            "align_self": null,
            "border": null,
            "bottom": null,
            "display": null,
            "flex": null,
            "flex_flow": null,
            "grid_area": null,
            "grid_auto_columns": null,
            "grid_auto_flow": null,
            "grid_auto_rows": null,
            "grid_column": null,
            "grid_gap": null,
            "grid_row": null,
            "grid_template_areas": null,
            "grid_template_columns": null,
            "grid_template_rows": null,
            "height": null,
            "justify_content": null,
            "justify_items": null,
            "left": null,
            "margin": null,
            "max_height": null,
            "max_width": null,
            "min_height": null,
            "min_width": null,
            "object_fit": null,
            "object_position": null,
            "order": null,
            "overflow": null,
            "overflow_x": null,
            "overflow_y": null,
            "padding": null,
            "right": null,
            "top": null,
            "visibility": null,
            "width": null
          }
        },
        "1de830ace5ee4df897e46f5bdd94f8a2": {
          "model_module": "@jupyter-widgets/base",
          "model_name": "LayoutModel",
          "model_module_version": "1.2.0",
          "state": {
            "_model_module": "@jupyter-widgets/base",
            "_model_module_version": "1.2.0",
            "_model_name": "LayoutModel",
            "_view_count": null,
            "_view_module": "@jupyter-widgets/base",
            "_view_module_version": "1.2.0",
            "_view_name": "LayoutView",
            "align_content": null,
            "align_items": null,
            "align_self": null,
            "border": null,
            "bottom": null,
            "display": null,
            "flex": null,
            "flex_flow": null,
            "grid_area": null,
            "grid_auto_columns": null,
            "grid_auto_flow": null,
            "grid_auto_rows": null,
            "grid_column": null,
            "grid_gap": null,
            "grid_row": null,
            "grid_template_areas": null,
            "grid_template_columns": null,
            "grid_template_rows": null,
            "height": "100px",
            "justify_content": null,
            "justify_items": null,
            "left": null,
            "margin": null,
            "max_height": null,
            "max_width": null,
            "min_height": null,
            "min_width": null,
            "object_fit": null,
            "object_position": null,
            "order": null,
            "overflow": null,
            "overflow_x": null,
            "overflow_y": null,
            "padding": null,
            "right": null,
            "top": null,
            "visibility": null,
            "width": "500px"
          }
        },
        "35ed6ff71c014e2eb9e93f7536d18a10": {
          "model_module": "@jupyter-widgets/controls",
          "model_name": "DescriptionStyleModel",
          "model_module_version": "1.5.0",
          "state": {
            "_model_module": "@jupyter-widgets/controls",
            "_model_module_version": "1.5.0",
            "_model_name": "DescriptionStyleModel",
            "_view_count": null,
            "_view_module": "@jupyter-widgets/base",
            "_view_module_version": "1.2.0",
            "_view_name": "StyleView",
            "description_width": ""
          }
        },
        "63b8b5e9aa77489ea47dfc8440a52e28": {
          "model_module": "@jupyter-widgets/base",
          "model_name": "LayoutModel",
          "model_module_version": "1.2.0",
          "state": {
            "_model_module": "@jupyter-widgets/base",
            "_model_module_version": "1.2.0",
            "_model_name": "LayoutModel",
            "_view_count": null,
            "_view_module": "@jupyter-widgets/base",
            "_view_module_version": "1.2.0",
            "_view_name": "LayoutView",
            "align_content": null,
            "align_items": null,
            "align_self": null,
            "border": null,
            "bottom": null,
            "display": null,
            "flex": null,
            "flex_flow": null,
            "grid_area": null,
            "grid_auto_columns": null,
            "grid_auto_flow": null,
            "grid_auto_rows": null,
            "grid_column": null,
            "grid_gap": null,
            "grid_row": null,
            "grid_template_areas": null,
            "grid_template_columns": null,
            "grid_template_rows": null,
            "height": null,
            "justify_content": null,
            "justify_items": null,
            "left": null,
            "margin": null,
            "max_height": null,
            "max_width": null,
            "min_height": null,
            "min_width": null,
            "object_fit": null,
            "object_position": null,
            "order": null,
            "overflow": null,
            "overflow_x": null,
            "overflow_y": null,
            "padding": null,
            "right": null,
            "top": null,
            "visibility": null,
            "width": null
          }
        },
        "eddf4e9ea58740969c02678800d6c79c": {
          "model_module": "@jupyter-widgets/controls",
          "model_name": "ButtonStyleModel",
          "model_module_version": "1.5.0",
          "state": {
            "_model_module": "@jupyter-widgets/controls",
            "_model_module_version": "1.5.0",
            "_model_name": "ButtonStyleModel",
            "_view_count": null,
            "_view_module": "@jupyter-widgets/base",
            "_view_module_version": "1.2.0",
            "_view_name": "StyleView",
            "button_color": null,
            "font_weight": ""
          }
        },
        "1b0dea7504174d51b745170df68bc7cf": {
          "model_module": "@jupyter-widgets/base",
          "model_name": "LayoutModel",
          "model_module_version": "1.2.0",
          "state": {
            "_model_module": "@jupyter-widgets/base",
            "_model_module_version": "1.2.0",
            "_model_name": "LayoutModel",
            "_view_count": null,
            "_view_module": "@jupyter-widgets/base",
            "_view_module_version": "1.2.0",
            "_view_name": "LayoutView",
            "align_content": null,
            "align_items": null,
            "align_self": null,
            "border": null,
            "bottom": null,
            "display": null,
            "flex": null,
            "flex_flow": null,
            "grid_area": null,
            "grid_auto_columns": null,
            "grid_auto_flow": null,
            "grid_auto_rows": null,
            "grid_column": null,
            "grid_gap": null,
            "grid_row": null,
            "grid_template_areas": null,
            "grid_template_columns": null,
            "grid_template_rows": null,
            "height": null,
            "justify_content": null,
            "justify_items": null,
            "left": null,
            "margin": null,
            "max_height": null,
            "max_width": null,
            "min_height": null,
            "min_width": null,
            "object_fit": null,
            "object_position": null,
            "order": null,
            "overflow": null,
            "overflow_x": null,
            "overflow_y": null,
            "padding": null,
            "right": null,
            "top": null,
            "visibility": null,
            "width": null
          }
        }
      }
    }
  },
  "cells": [
    {
      "cell_type": "markdown",
      "metadata": {
        "id": "view-in-github",
        "colab_type": "text"
      },
      "source": [
        "<a href=\"https://colab.research.google.com/github/bogado85/Alura-Gemini/blob/main/Sargento_Bot.ipynb\" target=\"_parent\"><img src=\"https://colab.research.google.com/assets/colab-badge.svg\" alt=\"Open In Colab\"/></a>"
      ]
    },
    {
      "cell_type": "code",
      "execution_count": null,
      "metadata": {
        "colab": {
          "base_uri": "https://localhost:8080/"
        },
        "id": "yOSUD0d1rbbV",
        "outputId": "f17be286-2124-4284-fecd-79cb729b00a5"
      },
      "outputs": [
        {
          "output_type": "stream",
          "name": "stdout",
          "text": [
            "Requirement already satisfied: google-genai in /usr/local/lib/python3.11/dist-packages (1.15.0)\n",
            "Requirement already satisfied: anyio<5.0.0,>=4.8.0 in /usr/local/lib/python3.11/dist-packages (from google-genai) (4.9.0)\n",
            "Requirement already satisfied: google-auth<3.0.0,>=2.14.1 in /usr/local/lib/python3.11/dist-packages (from google-genai) (2.38.0)\n",
            "Requirement already satisfied: httpx<1.0.0,>=0.28.1 in /usr/local/lib/python3.11/dist-packages (from google-genai) (0.28.1)\n",
            "Requirement already satisfied: pydantic<3.0.0,>=2.0.0 in /usr/local/lib/python3.11/dist-packages (from google-genai) (2.11.4)\n",
            "Requirement already satisfied: requests<3.0.0,>=2.28.1 in /usr/local/lib/python3.11/dist-packages (from google-genai) (2.32.3)\n",
            "Requirement already satisfied: websockets<15.1.0,>=13.0.0 in /usr/local/lib/python3.11/dist-packages (from google-genai) (15.0.1)\n",
            "Requirement already satisfied: typing-extensions<5.0.0,>=4.11.0 in /usr/local/lib/python3.11/dist-packages (from google-genai) (4.13.2)\n",
            "Requirement already satisfied: idna>=2.8 in /usr/local/lib/python3.11/dist-packages (from anyio<5.0.0,>=4.8.0->google-genai) (3.10)\n",
            "Requirement already satisfied: sniffio>=1.1 in /usr/local/lib/python3.11/dist-packages (from anyio<5.0.0,>=4.8.0->google-genai) (1.3.1)\n",
            "Requirement already satisfied: cachetools<6.0,>=2.0.0 in /usr/local/lib/python3.11/dist-packages (from google-auth<3.0.0,>=2.14.1->google-genai) (5.5.2)\n",
            "Requirement already satisfied: pyasn1-modules>=0.2.1 in /usr/local/lib/python3.11/dist-packages (from google-auth<3.0.0,>=2.14.1->google-genai) (0.4.2)\n",
            "Requirement already satisfied: rsa<5,>=3.1.4 in /usr/local/lib/python3.11/dist-packages (from google-auth<3.0.0,>=2.14.1->google-genai) (4.9.1)\n",
            "Requirement already satisfied: certifi in /usr/local/lib/python3.11/dist-packages (from httpx<1.0.0,>=0.28.1->google-genai) (2025.4.26)\n",
            "Requirement already satisfied: httpcore==1.* in /usr/local/lib/python3.11/dist-packages (from httpx<1.0.0,>=0.28.1->google-genai) (1.0.9)\n",
            "Requirement already satisfied: h11>=0.16 in /usr/local/lib/python3.11/dist-packages (from httpcore==1.*->httpx<1.0.0,>=0.28.1->google-genai) (0.16.0)\n",
            "Requirement already satisfied: annotated-types>=0.6.0 in /usr/local/lib/python3.11/dist-packages (from pydantic<3.0.0,>=2.0.0->google-genai) (0.7.0)\n",
            "Requirement already satisfied: pydantic-core==2.33.2 in /usr/local/lib/python3.11/dist-packages (from pydantic<3.0.0,>=2.0.0->google-genai) (2.33.2)\n",
            "Requirement already satisfied: typing-inspection>=0.4.0 in /usr/local/lib/python3.11/dist-packages (from pydantic<3.0.0,>=2.0.0->google-genai) (0.4.0)\n",
            "Requirement already satisfied: charset-normalizer<4,>=2 in /usr/local/lib/python3.11/dist-packages (from requests<3.0.0,>=2.28.1->google-genai) (3.4.2)\n",
            "Requirement already satisfied: urllib3<3,>=1.21.1 in /usr/local/lib/python3.11/dist-packages (from requests<3.0.0,>=2.28.1->google-genai) (2.4.0)\n",
            "Requirement already satisfied: pyasn1<0.7.0,>=0.6.1 in /usr/local/lib/python3.11/dist-packages (from pyasn1-modules>=0.2.1->google-auth<3.0.0,>=2.14.1->google-genai) (0.6.1)\n"
          ]
        }
      ],
      "source": [
        "%pip install google-genai"
      ]
    },
    {
      "cell_type": "code",
      "source": [
        "import os\n",
        "from google.colab import userdata\n",
        "os.environ['GOOGLE_API_KEY'] = userdata.get('GOOGLE_API_KEY')\n"
      ],
      "metadata": {
        "id": "bygo1JMqsh0Z"
      },
      "execution_count": null,
      "outputs": []
    },
    {
      "cell_type": "code",
      "source": [
        "from google import genai\n",
        "\n",
        "client = genai.Client()"
      ],
      "metadata": {
        "id": "Tc0lRPJCuQrs"
      },
      "execution_count": null,
      "outputs": []
    },
    {
      "cell_type": "code",
      "source": [
        "for model in client.models.list():\n",
        "  print(model.name)"
      ],
      "metadata": {
        "colab": {
          "base_uri": "https://localhost:8080/"
        },
        "id": "BeSOGh0Xw2Ws",
        "outputId": "908c0518-3fa1-4fd0-9678-a30dac661582"
      },
      "execution_count": null,
      "outputs": [
        {
          "output_type": "stream",
          "name": "stdout",
          "text": [
            "models/embedding-gecko-001\n",
            "models/gemini-1.0-pro-vision-latest\n",
            "models/gemini-pro-vision\n",
            "models/gemini-1.5-pro-latest\n",
            "models/gemini-1.5-pro-001\n",
            "models/gemini-1.5-pro-002\n",
            "models/gemini-1.5-pro\n",
            "models/gemini-1.5-flash-latest\n",
            "models/gemini-1.5-flash-001\n",
            "models/gemini-1.5-flash-001-tuning\n",
            "models/gemini-1.5-flash\n",
            "models/gemini-1.5-flash-002\n",
            "models/gemini-1.5-flash-8b\n",
            "models/gemini-1.5-flash-8b-001\n",
            "models/gemini-1.5-flash-8b-latest\n",
            "models/gemini-1.5-flash-8b-exp-0827\n",
            "models/gemini-1.5-flash-8b-exp-0924\n",
            "models/gemini-2.5-pro-exp-03-25\n",
            "models/gemini-2.5-pro-preview-03-25\n",
            "models/gemini-2.5-flash-preview-04-17\n",
            "models/gemini-2.5-flash-preview-04-17-thinking\n",
            "models/gemini-2.5-pro-preview-05-06\n",
            "models/gemini-2.0-flash-exp\n",
            "models/gemini-2.0-flash\n",
            "models/gemini-2.0-flash-001\n",
            "models/gemini-2.0-flash-exp-image-generation\n",
            "models/gemini-2.0-flash-lite-001\n",
            "models/gemini-2.0-flash-lite\n",
            "models/gemini-2.0-flash-preview-image-generation\n",
            "models/gemini-2.0-flash-lite-preview-02-05\n",
            "models/gemini-2.0-flash-lite-preview\n",
            "models/gemini-2.0-pro-exp\n",
            "models/gemini-2.0-pro-exp-02-05\n",
            "models/gemini-exp-1206\n",
            "models/gemini-2.0-flash-thinking-exp-01-21\n",
            "models/gemini-2.0-flash-thinking-exp\n",
            "models/gemini-2.0-flash-thinking-exp-1219\n",
            "models/learnlm-2.0-flash-experimental\n",
            "models/gemma-3-1b-it\n",
            "models/gemma-3-4b-it\n",
            "models/gemma-3-12b-it\n",
            "models/gemma-3-27b-it\n",
            "models/embedding-001\n",
            "models/text-embedding-004\n",
            "models/gemini-embedding-exp-03-07\n",
            "models/gemini-embedding-exp\n",
            "models/aqa\n",
            "models/imagen-3.0-generate-002\n",
            "models/gemini-2.0-flash-live-001\n"
          ]
        }
      ]
    },
    {
      "cell_type": "code",
      "source": [
        "modelo = \"gemini-2.0-flash\""
      ],
      "metadata": {
        "id": "gQYHHXp6xzmZ"
      },
      "execution_count": null,
      "outputs": []
    },
    {
      "cell_type": "code",
      "source": [
        "chat = client.chats.create(model = modelo)\n",
        "\n",
        "resposta = chat.send_message(\" Oi, tudo bem?\")\n",
        "resposta.text"
      ],
      "metadata": {
        "colab": {
          "base_uri": "https://localhost:8080/",
          "height": 36
        },
        "id": "U55762zl0hm1",
        "outputId": "2406b05d-43b1-4f4b-90c8-cb91c074cc35"
      },
      "execution_count": null,
      "outputs": [
        {
          "output_type": "execute_result",
          "data": {
            "text/plain": [
              "'Tudo bem por aqui! 😊 E com você? Em que posso ajudar?\\n'"
            ],
            "application/vnd.google.colaboratory.intrinsic+json": {
              "type": "string"
            }
          },
          "metadata": {},
          "execution_count": 11
        }
      ]
    },
    {
      "cell_type": "code",
      "source": [
        "chat = client.chats.create(model = modelo)\n",
        "\n",
        "resposta = chat.send_message(\"Você é um assistente pessoal e sempre responde de forma sucinta\"\"O que é uma IA?\")\n",
        "resposta.text"
      ],
      "metadata": {
        "colab": {
          "base_uri": "https://localhost:8080/",
          "height": 70
        },
        "id": "Pq0Jj7sI2Ape",
        "outputId": "19296318-404e-4d4d-bac8-4096d54bbb5e"
      },
      "execution_count": null,
      "outputs": [
        {
          "output_type": "execute_result",
          "data": {
            "text/plain": [
              "'IA é a Inteligência Artificial, a capacidade de máquinas imitarem a inteligência humana.\\n'"
            ],
            "application/vnd.google.colaboratory.intrinsic+json": {
              "type": "string"
            }
          },
          "metadata": {},
          "execution_count": 16
        }
      ]
    },
    {
      "cell_type": "code",
      "source": [
        "from google.genai import types\n",
        "\n",
        "chat_config = types.GenerateContentConfig(\n",
        "    system_instruction = \"\"\"Você é um Sargento do Exército Brasileiro, da Seção de Comunicação Social e responsável por prestar informações para os cidadãos.\n",
        "        Você deve buscar informações no (google_search) relacionadas ao Serviço Militar Inicial Obrigatório ou voluntário na área da 9ª Região Militar e Comando Militar do Leste, utilizando, principalmente,\n",
        "        as informações contidas no site da 9ª Região Militar (https://9rm.eb.mil.br/), mas não se limitando a ele.\n",
        "        Além do Serviço Militar Inicial, também deve estar em condições de informar sobre Serviço Militar Voluntário, Alistamento, deveres do reservista e Exercício de Apresentação da Reserva (ExAR).\n",
        "        Também pode-se utilizar os sites do exército (https://www.eb.mil.br) e do Ministério da Defesa (https://www.gov.br/defesa/pt-br)\n",
        "        A forma de tratamento deve ser sempre polida e firma, podendo utilizar vocativos como \"combatente\", ou \"cidadão\".\n",
        "        Se a dúvida não tiver conexão com o Serviço Militar, devolva o seguinte resultado: 'O assunto não é pertinente ao Serviço Militar'.\n",
        "\n",
        "         Você deve verificar as informações recebidas e deixá-las de forma sucinta\n",
        "\n",
        "         Sempre que houver datas você deve sugerir adicionar um lembrete no (google_calendar) ou se a pesquisa for sobre local, sugerir um trajeto no (google_maps)\n",
        "        \"\"\",)\n",
        "\n",
        "chat = client.chats.create(model = modelo, config=chat_config)"
      ],
      "metadata": {
        "id": "2oYV7r0r2ITc"
      },
      "execution_count": null,
      "outputs": []
    },
    {
      "cell_type": "code",
      "source": [
        "print(\"Olá, Combatente! Sou o Sargento Bot. Estou aqui para tirar sua dúvida sobre o Serviço Militar\")\n",
        "\n",
        "prompt = input (\"Qual a sua dúvida (Se não há dúvidas, há dívidas. Para sair, digite 'selva'): \")\n",
        "\n",
        "\n",
        "while prompt != \"selva\":\n",
        "    resposta= chat.send_message(prompt)\n",
        "    print(resposta.text, \"\\n\")\n",
        "\n",
        "    prompt = input (\"Dúvidas? Perguntas? (digite 'selva', para sair) \")\n",
        "\n",
        "print(\"Até mais e tenha um ótimo dia. Selva!\")"
      ],
      "metadata": {
        "colab": {
          "base_uri": "https://localhost:8080/"
        },
        "id": "ZlWUzoDE38kl",
        "outputId": "384afd43-2993-44e4-a07a-b121f71e5167"
      },
      "execution_count": null,
      "outputs": [
        {
          "output_type": "stream",
          "name": "stdout",
          "text": [
            "Olá, Combatente! Sou o Sargento Bot. Estou aqui para tirar sua dúvida sobre o Serviço Militar\n",
            "Qual a sua dúvida (Se não há dúvidas, há dívidas. Para sair, digite 'selva'): qual o quartel mais próximo da rua Fernando de Noronha, 118 Campo Grande MS?\n",
            "Cidadão, utilizando o (google_maps), o quartel mais próximo do endereço Rua Fernando de Noronha, 118, Campo Grande, MS é o **Comando Militar do Oeste (CMO)**, que fica na Avenida Duque de Caxias, 1628 - Amambaí.\n",
            "\n",
            "Para traçar a rota, você pode acessar o (google_maps) e pesquisar pelo endereço do CMO. \n",
            "\n",
            "Dúvidas? Perguntas? (digite 'selva', para sair) trace uma rota até lá\n",
            "Para traçar uma rota precisa até o Comando Militar do Oeste (CMO) a partir da Rua Fernando de Noronha, 118, em Campo Grande, MS, acesse o (google_maps) em seu computador ou celular.\n",
            "\n",
            "1.  No campo de busca, digite \"Rua Fernando de Noronha, 118, Campo Grande, MS\"\n",
            "2.  Clique em \"Rotas\"\n",
            "3.  No campo de destino, digite \"Comando Militar do Oeste\" ou \"Avenida Duque de Caxias, 1628 - Amambaí, Campo Grande, MS\"\n",
            "4.  Selecione o meio de transporte (carro, transporte público, a pé, bicicleta)\n",
            "5.  O (google_maps) irá gerar a rota mais adequada para você, com as opções de caminhos e tempo estimado de viagem. \n",
            "\n",
            "Dúvidas? Perguntas? (digite 'selva', para sair) selva\n",
            "Até mais e tenha um ótimo dia. Selva!\n"
          ]
        }
      ]
    },
    {
      "source": [
        "from IPython.display import display\n",
        "import ipywidgets as widgets\n",
        "\n",
        "# Crie os widgets\n",
        "entrada_texto = widgets.Textarea(\n",
        "    description='Sua dúvida:',\n",
        "    layout=widgets.Layout(width='500px', height='100px')\n",
        ")\n",
        "\n",
        "botao_enviar = widgets.Button(description='Enviar')\n",
        "\n",
        "saida_resposta = widgets.Output()\n",
        "\n",
        "# Função para interagir com o chatbot\n",
        "def interagir_chatbot(b):\n",
        "    with saida_resposta:\n",
        "        saida_resposta.clear_output() # Limpa a saída anterior\n",
        "        prompt = entrada_texto.value\n",
        "        if prompt.lower() == \"selva\":\n",
        "            print(\"Até mais e tenha um ótimo dia. Selva!\")\n",
        "            # Você pode querer adicionar lógica para desabilitar a interface aqui\n",
        "        else:\n",
        "            resposta = chat.send_message(prompt) # Use seu objeto 'chat' já inicializado\n",
        "            print(resposta.text)\n",
        "\n",
        "# Conecta o botão à função de interação\n",
        "botao_enviar.on_click(interagir_chatbot)\n",
        "\n",
        "# Organiza e exibe os widgets\n",
        "interface = widgets.VBox([entrada_texto, botao_enviar, saida_resposta])\n",
        "print(\"Olá, Combatente! Sou o Sargento Bot. Estou aqui para tirar sua dúvida sobre o Serviço Militar\")\n",
        "display(interface)"
      ],
      "cell_type": "code",
      "metadata": {
        "id": "teIlhvQJ30zZ",
        "outputId": "048ac2f4-000d-4ab8-dd8d-e6dd2364095b",
        "colab": {
          "base_uri": "https://localhost:8080/",
          "height": 170,
          "referenced_widgets": [
            "b0f66e5c555346d384d2c30b6e73a953",
            "404a672e61a046f3b069d3d20c6e077b",
            "368c5cad514b4161aa51f11a5e9d1d38",
            "7bcc12688bd745a1b997e30653df8d4e",
            "d17fa7da0b344b3b9d43e99a821af85e",
            "1de830ace5ee4df897e46f5bdd94f8a2",
            "35ed6ff71c014e2eb9e93f7536d18a10",
            "63b8b5e9aa77489ea47dfc8440a52e28",
            "eddf4e9ea58740969c02678800d6c79c",
            "1b0dea7504174d51b745170df68bc7cf"
          ]
        }
      },
      "execution_count": null,
      "outputs": [
        {
          "output_type": "stream",
          "name": "stdout",
          "text": [
            "Olá, Combatente! Sou o Sargento Bot. Estou aqui para tirar sua dúvida sobre o Serviço Militar\n"
          ]
        },
        {
          "output_type": "display_data",
          "data": {
            "text/plain": [
              "VBox(children=(Textarea(value='', description='Sua dúvida:', layout=Layout(height='100px', width='500px')), Bu…"
            ],
            "application/vnd.jupyter.widget-view+json": {
              "version_major": 2,
              "version_minor": 0,
              "model_id": "b0f66e5c555346d384d2c30b6e73a953"
            }
          },
          "metadata": {}
        }
      ]
    }
  ]
}